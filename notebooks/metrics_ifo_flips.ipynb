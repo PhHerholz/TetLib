{
 "cells": [
  {
   "cell_type": "markdown",
   "metadata": {},
   "source": [
    "# Cell Metrics IFO Flips"
   ]
  },
  {
   "cell_type": "code",
   "execution_count": 1,
   "metadata": {},
   "outputs": [],
   "source": [
    "import os\n",
    "import numpy as np\n",
    "import pandas as pd\n",
    "import matplotlib.pyplot as plt\n",
    "import copy"
   ]
  },
  {
   "cell_type": "code",
   "execution_count": 2,
   "metadata": {},
   "outputs": [],
   "source": [
    "root_folder = '../build/out/04_flips'\n",
    "meshestxt = root_folder + '/plots/meshes.txt'\n",
    "\n",
    "run_names = [l[:-1] for l in open(meshestxt, \"r\").readlines()]"
   ]
  },
  {
   "cell_type": "code",
   "execution_count": 3,
   "metadata": {},
   "outputs": [],
   "source": [
    "# CELL-BASED TRIANGULATION METRICS\n",
    "run_metrics = {}\n",
    "run_orbitpoints = {}\n",
    "for run_name in run_names:\n",
    "    metrics_file     = os.path.join(root_folder, '{}metrics.csv'.format(run_name))\n",
    "    orbitpoints_file = os.path.join(root_folder, '{}orbitpoints.csv'.format(run_name))\n",
    "    \n",
    "    # print(os.path.exists(metrics_file), os.path.exists(orbitpoints_file))\n",
    "    run_metrics[run_name] = pd.read_csv(metrics_file)\n",
    "    run_orbitpoints[run_name] = pd.read_csv(orbitpoints_file)\n",
    "    \n",
    "from utils import join_run_values\n",
    "metric_df = join_run_values(run_metrics, run_orbitpoints, run_names)"
   ]
  },
  {
   "cell_type": "code",
   "execution_count": 4,
   "metadata": {},
   "outputs": [
    {
     "data": {
      "image/png": "[encoded data removed]",
      "text/plain": [
       "<Figure size 720x288 with 2 Axes>"
      ]
     },
     "metadata": {},
     "output_type": "display_data"
    }
   ],
   "source": [
    "gb = 'nflips'\n",
    "\n",
    "fig = plt.figure(figsize=(10, 4))\n",
    "axes = fig.subplots(nrows=1, ncols=2)\n",
    "\n",
    "axes[0].set_title('MIN')\n",
    "metric_df.groupby(gb).min()['minangle'].plot(ax=axes[0])\n",
    "axes[1].set_title('MEAN')\n",
    "metric_df.groupby(gb).mean()['minangle'].plot(ax=axes[1])\n",
    "\n",
    "plt.show()"
   ]
  },
  {
   "cell_type": "code",
   "execution_count": 5,
   "metadata": {},
   "outputs": [
    {
     "name": "stdout",
     "output_type": "stream",
     "text": [
      "0.1\n",
      "0.0975862068966\n",
      "0.0951724137931\n",
      "0.0927586206897\n",
      "0.0903448275862\n",
      "0.0879310344828\n",
      "0.0855172413793\n",
      "0.0831034482759\n",
      "0.0806896551724\n",
      "0.078275862069\n",
      "0.0758620689655\n",
      "0.0734482758621\n",
      "0.0710344827586\n",
      "0.0686206896552\n",
      "0.0662068965517\n",
      "0.0637931034483\n",
      "0.0613793103448\n",
      "0.0589655172414\n",
      "0.0565517241379\n",
      "0.0541379310345\n",
      "0.051724137931\n",
      "0.0493103448276\n",
      "0.0468965517241\n",
      "0.0444827586207\n",
      "0.0420689655172\n",
      "0.0396551724138\n",
      "0.0372413793103\n",
      "0.0348275862069\n",
      "0.0324137931034\n",
      "0.03\n"
     ]
    }
   ],
   "source": [
    "for x in np.linspace(0.1, 0.03, 30):\n",
    "    print(x)"
   ]
  }
 ],
 "metadata": {
  "kernelspec": {
   "display_name": "Python 3",
   "language": "python",
   "name": "python3"
  },
  "language_info": {
   "codemirror_mode": {
    "name": "ipython",
    "version": 3
   },
   "file_extension": ".py",
   "mimetype": "text/x-python",
   "name": "python",
   "nbconvert_exporter": "python",
   "pygments_lexer": "ipython3",
   "version": "3.5.2"
  }
 },
 "nbformat": 4,
 "nbformat_minor": 2
}
