{
 "cells": [
  {
   "cell_type": "code",
   "execution_count": null,
   "metadata": {},
   "outputs": [],
   "source": [
    "import os\n",
    "import numpy as np\n",
    "import pandas as pd\n",
    "import matplotlib.pyplot as plt\n",
    "import copy"
   ]
  },
  {
   "cell_type": "code",
   "execution_count": null,
   "metadata": {},
   "outputs": [],
   "source": [
    "def load_heat_gradients(csv_path):\n",
    "    df = pd.read_csv(csv_path)  \n",
    "    \n",
    "    anchors = df.values[:, :3]\n",
    "    hgs_fem = df.values[:, 3:6]\n",
    "    hgs_dec = df.values[:, 6:9]\n",
    "    \n",
    "    hgs_reg = None\n",
    "    if df.shape[1] == 12:\n",
    "        hgs_reg = df.values[:, 9:12]\n",
    "    \n",
    "    anchor_norms = np.linalg.norm(anchors, axis=1)\n",
    "    \n",
    "    # filter out origin if it exists\n",
    "    norigin_mask = anchor_norms != 0\n",
    "    \n",
    "    anchors = anchors[norigin_mask]\n",
    "    hgs_fem = hgs_fem[norigin_mask]\n",
    "    hgs_dec = hgs_dec[norigin_mask]\n",
    "    if hgs_reg is not None:\n",
    "        hgs_reg = hgs_reg[norigin_mask]\n",
    "    \n",
    "    anchor_norms = anchor_norms[norigin_mask]\n",
    "    anchors_normed = anchors / anchor_norms[:,None]\n",
    "    \n",
    "    hgs_fem_normed = - hgs_fem / np.linalg.norm(hgs_fem, axis=1, keepdims=True)\n",
    "    hgs_dec_normed = - hgs_dec / np.linalg.norm(hgs_dec, axis=1, keepdims=True)\n",
    "    if hgs_reg is not None:\n",
    "        hgs_reg_normed = -hgs_reg / np.linalg.norm(hgs_reg, axis=1, keepdims=True)\n",
    "        \n",
    "    dot_products_fem = np.einsum('ij,ij->i', anchors_normed, hgs_fem_normed)\n",
    "    dot_products_dec = np.einsum('ij,ij->i', anchors_normed, hgs_dec_normed)\n",
    "    \n",
    "    if hgs_reg is not None:\n",
    "        dot_product_reg = np.einsum('ij,ij->i', anchors_normed, hgs_reg_normed)\n",
    "    \n",
    "    names = ['fem', 'dec']\n",
    "    products = [dot_products_fem, dot_products_dec]\n",
    "    if hgs_reg is not None:\n",
    "        names.append('reg')\n",
    "        products.append(dot_product_reg)\n",
    "    \n",
    "    return names, anchors, products\n",
    "\n",
    "def compare_heat_gradients_cv(csv_prefix):\n",
    "    \n",
    "    metric_functions = {\n",
    "        'mean'                 : lambda x : x.mean(),\n",
    "        'mean_topdiff'         : lambda x : (1 - x).mean(),\n",
    "        'max_topdiff'          : lambda x : (1 - x).max(),\n",
    "        'mean_topdiff_squared' : lambda x : ((1 - x) ** 2).mean()\n",
    "    }\n",
    "    \n",
    "    print('CSV PREFIX: {}'.format(csv_prefix))\n",
    "    \n",
    "    csvp_cells = csv_prefix + '_cells.csv'\n",
    "    csvp_verts = csv_prefix + '_vertices.csv'\n",
    "    \n",
    "    names, anchors_cells, products_cells = load_heat_gradients(csvp_cells)\n",
    "    names, anchors_verts, products_verts = load_heat_gradients(csvp_verts)\n",
    "    \n",
    "    # join metrics in a df\n",
    "    value_dict = {'anchor'    : ['cell'] * len(products_cells) + ['vertex'] * len(products_verts), \n",
    "                  'laplacian' : names * 2 }\n",
    "    for m_k, m in metric_functions.items():\n",
    "        value_dict[m_k] = [m(pc) for pc in products_cells] + [m(pv) for pv in products_verts]\n",
    "                  \n",
    "    reg_included = False\n",
    "    if (len(products_cells) == 3):\n",
    "        reg_included = True\n",
    "\n",
    "    df = pd.DataFrame(value_dict)\n",
    "    display(df.set_index(['anchor', 'laplacian']))\n",
    "    \n",
    "    anchor_norms_cells = np.linalg.norm(anchors_cells, axis=1)\n",
    "    anchor_norms_verts = np.linalg.norm(anchors_verts, axis=1)\n",
    "    \n",
    "    # PLOTS\n",
    "    rows = 2\n",
    "    cols = 2 if not reg_included else 3\n",
    "    fig, axs = plt.subplots(rows, cols, figsize=(10, 5))\n",
    "    \n",
    "    # cell-based FEM\n",
    "    axs[0, 0].set_title('Cells, {}'.format(names[0]))\n",
    "    axs[0, 0].scatter(anchor_norms_cells, products_cells[0], s=0.5)\n",
    "    axs[0, 0].set_ylim([-1, 1])\n",
    "    axs[0, 1].set_title('Cells, {}'.format(names[1]))\n",
    "    axs[0, 1].scatter(anchor_norms_cells, products_cells[1], s=0.5)\n",
    "    axs[0, 1].set_ylim([-1, 1])\n",
    "    axs[1, 0].set_title('Verts, {}'.format(names[0]))\n",
    "    axs[1, 0].scatter(anchor_norms_verts, products_verts[0], s=0.5)\n",
    "    axs[1, 0].set_ylim([-1, 1])\n",
    "    axs[1, 1].set_title('Verts, {}'.format(names[1]))\n",
    "    axs[1, 1].scatter(anchor_norms_verts, products_verts[1], s=0.5)\n",
    "    axs[1, 1].set_ylim([-1, 1])\n",
    "    \n",
    "    if (reg_included):\n",
    "        axs[0, 2].set_title('Cells, {}'.format(names[2]))\n",
    "        axs[0, 2].scatter(anchor_norms_cells, products_cells[2], s=0.5)\n",
    "        axs[0, 2].set_ylim([-1, 1])\n",
    "        axs[1, 2].set_title('Verts, {}'.format(names[2]))\n",
    "        axs[1, 2].scatter(anchor_norms_verts, products_verts[2], s=0.5)     \n",
    "        axs[1, 2].set_ylim([-1, 1])\n",
    "    \n",
    "    plt.tight_layout()\n",
    "    plt.show()\n",
    "    fig.clf()\n",
    "    \n",
    "    return df\n",
    "\n",
    "def plot_ifo_val(df, by_val):\n",
    "    clrs = ['r', 'b', 'g']\n",
    "    lss  = ['-', '--']\n",
    "    \n",
    "    index_cols = ['anchor', 'laplacian', by_val]\n",
    "    metrics = [m for m in df.keys() if m not in index_cols]\n",
    "    \n",
    "    for m in metrics:\n",
    "        ax = plt.gca()\n",
    "        for a_idx, an in enumerate(df['anchor'].unique()): \n",
    "            for l_idx, ln in enumerate(df['laplacian'].unique()):\n",
    "                df[(df['anchor'] == an) & (df['laplacian'] == ln)].plot(x=by_val, y=m, label='{} {}'.format(an, ln), ax=ax, c=clrs[l_idx], ls=lss[a_idx], alpha=0.8)\n",
    "        plt.title(m)\n",
    "        plt.show()"
   ]
  },
  {
   "cell_type": "markdown",
   "metadata": {},
   "source": [
    "# Stats IFO timestep t"
   ]
  },
  {
   "cell_type": "code",
   "execution_count": null,
   "metadata": {
    "scrolled": true
   },
   "outputs": [],
   "source": [
    "meandfs = []\n",
    "expsteps = [-4, -3, -2, -1, 0]\n",
    "cellSize = 0.1\n",
    "for texp in expsteps:\n",
    "    foldername = 'KA_hd_t1e{}'.format(texp)\n",
    "    folderpath = '../build/out/{}/plots'.format(foldername)\n",
    "    meshestxt = folderpath + '/meshes.txt'\n",
    "    meshesprefix = folderpath + '/OriginSphere{}_-1.000000_R0_heatgradients'.format(cellSize)\n",
    "    meandfs.append(compare_heat_gradients_cv(meshesprefix))\n",
    "\n",
    "# add the time labels\n",
    "for e_idx, es in enumerate(expsteps):\n",
    "    meandfs[e_idx]['t'] = es\n",
    "meandf = pd.concat(meandfs)"
   ]
  },
  {
   "cell_type": "code",
   "execution_count": null,
   "metadata": {},
   "outputs": [],
   "source": [
    "plot_ifo_val(meandf, 't')"
   ]
  },
  {
   "cell_type": "markdown",
   "metadata": {},
   "source": [
    "# Regnoise"
   ]
  },
  {
   "cell_type": "code",
   "execution_count": null,
   "metadata": {
    "scrolled": true
   },
   "outputs": [],
   "source": [
    "meandfs_noise = []\n",
    "cellSize = 0.1\n",
    "noises = [-2, 0., 0.1, 0.2, 0.5, 1.0, 2.]\n",
    "for noisescale in noises:\n",
    "    foldername = 'KC_hd_t1e-3_noisenreg'.format(texp)\n",
    "    folderpath = '../build/out/{}/plots'.format(foldername)\n",
    "    meshestxt = folderpath + '/meshes.txt'\n",
    "    meshesprefix = folderpath + '/OriginSphere{}_{:6f}_R0_heatgradients'.format(cellSize, noisescale)\n",
    "    meandfs_noise.append(compare_heat_gradients_cv(meshesprefix))\n",
    "    \n",
    "# add the noise labels\n",
    "for n_idx, noisescale in enumerate(noises):\n",
    "    meandfs_noise[n_idx]['regnoise'] = noisescale\n",
    "meandf_noise = pd.concat(meandfs_noise)"
   ]
  },
  {
   "cell_type": "code",
   "execution_count": null,
   "metadata": {
    "scrolled": false
   },
   "outputs": [],
   "source": [
    "plot_ifo_val(meandf_noise, 'regnoise')"
   ]
  }
 ],
 "metadata": {
  "kernelspec": {
   "display_name": "Python 3",
   "language": "python",
   "name": "python3"
  },
  "language_info": {
   "codemirror_mode": {
    "name": "ipython",
    "version": 3
   },
   "file_extension": ".py",
   "mimetype": "text/x-python",
   "name": "python",
   "nbconvert_exporter": "python",
   "pygments_lexer": "ipython3",
   "version": "3.5.2"
  }
 },
 "nbformat": 4,
 "nbformat_minor": 2
}
