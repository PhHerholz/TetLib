{
 "cells": [
  {
   "cell_type": "code",
   "execution_count": null,
   "metadata": {},
   "outputs": [],
   "source": [
    "import os\n",
    "import numpy as np\n",
    "import pandas as pd\n",
    "import matplotlib.pyplot as plt\n",
    "import copy"
   ]
  },
  {
   "cell_type": "code",
   "execution_count": null,
   "metadata": {},
   "outputs": [],
   "source": [
    "root_folder = '../build/out/00_vols'\n",
    "meshestxt = root_folder + '/plots/meshes.txt'"
   ]
  },
  {
   "cell_type": "code",
   "execution_count": null,
   "metadata": {},
   "outputs": [],
   "source": [
    "run_names = [l[:-1] for l in open(meshestxt, \"r\").readlines()]"
   ]
  },
  {
   "cell_type": "markdown",
   "metadata": {},
   "source": [
    "# Load Metrics"
   ]
  },
  {
   "cell_type": "code",
   "execution_count": null,
   "metadata": {},
   "outputs": [],
   "source": [
    "# CELL-BASED TRIANGULATION METRICS\n",
    "run_metrics = {}\n",
    "run_orbitpoints = {}\n",
    "for run_name in run_names:\n",
    "    metrics_file     = os.path.join(root_folder, '{}metrics.csv'.format(run_name))\n",
    "    orbitpoints_file = os.path.join(root_folder, '{}orbitpoints.csv'.format(run_name))\n",
    "    \n",
    "    # print(os.path.exists(metrics_file), os.path.exists(orbitpoints_file))\n",
    "    run_metrics[run_name] = pd.read_csv(metrics_file)\n",
    "    run_orbitpoints[run_name] = pd.read_csv(orbitpoints_file)"
   ]
  },
  {
   "cell_type": "code",
   "execution_count": null,
   "metadata": {},
   "outputs": [],
   "source": [
    "# HEAT VALUES\n",
    "run_data = {}\n",
    "for run_name in run_names:\n",
    "    try:\n",
    "        csv_path = os.path.join(root_folder, 'plots/{}heatvals.csv'.format(run_name))\n",
    "        \n",
    "        origin_index  = pd.read_csv(csv_path, header=None, skiprows=1, nrows=1).values[0][0]\n",
    "        orbit_indices = list(pd.read_csv(csv_path, header=None, skiprows=3, nrows=1).values[0])\n",
    "        heat_values   = pd.read_csv(csv_path, skiprows=4)\n",
    "        orbit_heat_vals = heat_values.iloc[orbit_indices]\n",
    "        run_data[run_name] = orbit_heat_vals\n",
    "    except:\n",
    "        print(\"aha\")"
   ]
  },
  {
   "cell_type": "code",
   "execution_count": null,
   "metadata": {},
   "outputs": [],
   "source": [
    "def join_run_values(vdict, rnames):\n",
    "    val_dict = copy.deepcopy(vdict)\n",
    "    for run_name in rnames:\n",
    "        _, cellSize, rerat, facetSize, lloyd, perturb, exude, nflips, _ = run_name.split('_')\n",
    "        n_entries = val_dict[run_name].shape[0]\n",
    "        lloyd   = bool(int(lloyd))\n",
    "        perturb = bool(int(perturb))\n",
    "        exude   = bool(int(exude))\n",
    "        nflips  = int(nflips)\n",
    "        cellSize = float(cellSize)\n",
    "        facetSize = float(facetSize)\n",
    "\n",
    "        n_orbitpoints = len(run_orbitpoints[run_name])\n",
    "        max_shift     = run_orbitpoints[run_name][' moved_by'].max()\n",
    "\n",
    "        val_dict[run_name]['cellSize'] = [cellSize] * n_entries\n",
    "        val_dict[run_name]['rerat']    = [rerat]    * n_entries\n",
    "        val_dict[run_name]['lloyd']    = [lloyd] * n_entries\n",
    "        val_dict[run_name]['perturb']  = [perturb] * n_entries\n",
    "        val_dict[run_name]['exude']    = [exude] * n_entries\n",
    "        val_dict[run_name]['nflips']   = [nflips] * n_entries\n",
    "        val_dict[run_name]['n_orbitpoints'] = [n_orbitpoints] * n_entries\n",
    "        val_dict[run_name]['max_shift'] = [max_shift] * n_entries\n",
    "\n",
    "    return pd.concat([val_dict[run_name] for run_name in run_names], ignore_index=True)"
   ]
  },
  {
   "cell_type": "code",
   "execution_count": null,
   "metadata": {},
   "outputs": [],
   "source": []
  },
  {
   "cell_type": "markdown",
   "metadata": {},
   "source": [
    "# CELL-BASED METRICS"
   ]
  },
  {
   "cell_type": "code",
   "execution_count": null,
   "metadata": {},
   "outputs": [],
   "source": [
    "metric_df = join_run_values(run_metrics, run_names)\n",
    "display(metric_df.groupby('cellSize').mean())"
   ]
  },
  {
   "cell_type": "code",
   "execution_count": null,
   "metadata": {},
   "outputs": [],
   "source": [
    "avg_by_size = metric_df.groupby('cellSize').mean().sort_index()\n",
    "\n",
    "fig = plt.figure(figsize=(15, 4))\n",
    "axes = fig.subplots(nrows=1, ncols=3)\n",
    "avg_by_size.plot(y='minangle', ax=axes[0])\n",
    "avg_by_size.plot(y='amips',    ax=axes[1])\n",
    "avg_by_size.plot(y='volume',   ax=axes[2])\n",
    "plt.show()"
   ]
  },
  {
   "cell_type": "markdown",
   "metadata": {},
   "source": [
    "# HEAT VALUES"
   ]
  },
  {
   "cell_type": "code",
   "execution_count": null,
   "metadata": {},
   "outputs": [],
   "source": [
    "df = join_run_values(run_data, run_names)\n",
    "df.groupby('cellSize')[['h_fem', ' h_dec']].mean().plot()\n",
    "plt.title('Mean')\n",
    "df.groupby('cellSize')[['h_fem', ' h_dec']].var().plot()\n",
    "plt.title('Var')\n",
    "plt.show()"
   ]
  }
 ],
 "metadata": {
  "kernelspec": {
   "display_name": "Python 3",
   "language": "python",
   "name": "python3"
  },
  "language_info": {
   "codemirror_mode": {
    "name": "ipython",
    "version": 3
   },
   "file_extension": ".py",
   "mimetype": "text/x-python",
   "name": "python",
   "nbconvert_exporter": "python",
   "pygments_lexer": "ipython3",
   "version": "3.5.2"
  }
 },
 "nbformat": 4,
 "nbformat_minor": 2
}
