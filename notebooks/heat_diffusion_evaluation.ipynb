{
 "cells": [
  {
   "cell_type": "code",
   "execution_count": null,
   "metadata": {},
   "outputs": [],
   "source": [
    "import os\n",
    "import numpy as np\n",
    "import pandas as pd\n",
    "import matplotlib.pyplot as plt"
   ]
  },
  {
   "cell_type": "code",
   "execution_count": null,
   "metadata": {},
   "outputs": [],
   "source": [
    "root_folder = '../build/out/00_vol_n_flips'\n",
    "meshestxt = root_folder + '/plots/meshes.txt'"
   ]
  },
  {
   "cell_type": "code",
   "execution_count": null,
   "metadata": {},
   "outputs": [],
   "source": [
    "run_names = [l[:-1] for l in open(meshestxt, \"r\").readlines()]"
   ]
  },
  {
   "cell_type": "markdown",
   "metadata": {},
   "source": [
    "# Cell-Based Metrics"
   ]
  },
  {
   "cell_type": "code",
   "execution_count": null,
   "metadata": {},
   "outputs": [],
   "source": [
    "run_metrics = {}\n",
    "run_orbitpoints = {}\n",
    "for run_name in run_names:\n",
    "    metrics_file     = os.path.join(root_folder, '{}metrics.csv'.format(run_name))\n",
    "    orbitpoints_file = os.path.join(root_folder, '{}orbitpoints.csv'.format(run_name))\n",
    "    \n",
    "    # print(os.path.exists(metrics_file), os.path.exists(orbitpoints_file))\n",
    "    run_metrics[run_name] = pd.read_csv(metrics_file)\n",
    "    run_orbitpoints[run_name] = pd.read_csv(orbitpoints_file)"
   ]
  },
  {
   "cell_type": "code",
   "execution_count": null,
   "metadata": {},
   "outputs": [],
   "source": [
    "for run_name in run_names:\n",
    "    _, cellSize, rerat, lloyd, perturb, exude, nflips, _ = run_name.split('_')\n",
    "    n_entries = run_metrics[run_name].shape[0]\n",
    "    lloyd   = bool(lloyd)\n",
    "    perturb = bool(perturb)\n",
    "    exude   = bool(exude)\n",
    "    nflips  = int(nflips)\n",
    "    cellSize = float(cellSize)\n",
    "    \n",
    "    n_orbitpoints = len(run_orbitpoints[run_name])\n",
    "    max_shift     = run_orbitpoints[run_name][' moved_by'].max()\n",
    "    \n",
    "    run_metrics[run_name]['cellSize'] = [cellSize] * n_entries\n",
    "    #run_metrics[run_name]['rerat']    = [rerat]    * n_entries\n",
    "    #run_metrics[run_name]['lloyd']    = [lloyd] * n_entries\n",
    "    #run_metrics[run_name]['perturb']  = [perturb] * n_entries\n",
    "    #run_metrics[run_name]['exude']    = [exude] * n_entries\n",
    "    run_metrics[run_name]['nflips']   = [nflips] * n_entries\n",
    "    run_metrics[run_name]['n_orbitpoints'] = [n_orbitpoints] * n_entries\n",
    "    run_metrics[run_name]['max_shift'] = [max_shift] * n_entries\n",
    "    \n",
    "df = pd.concat([run_metrics[run_name] for run_name in run_names])"
   ]
  },
  {
   "cell_type": "code",
   "execution_count": null,
   "metadata": {},
   "outputs": [],
   "source": [
    "df.keys()"
   ]
  },
  {
   "cell_type": "code",
   "execution_count": null,
   "metadata": {},
   "outputs": [],
   "source": [
    "avg_by_nflips = df.groupby('nflips').mean().sort_index()"
   ]
  },
  {
   "cell_type": "code",
   "execution_count": null,
   "metadata": {},
   "outputs": [],
   "source": [
    "avg_by_nflips.sort_index()"
   ]
  },
  {
   "cell_type": "code",
   "execution_count": null,
   "metadata": {},
   "outputs": [],
   "source": [
    "avg_by_size = df.groupby('cellSize').mean().sort_index()\n",
    "avg_by_size.plot(y='minangle')\n",
    "avg_by_size.plot(y='amips')\n",
    "avg_by_size.plot(y='volume')\n",
    "plt.show()"
   ]
  },
  {
   "cell_type": "markdown",
   "metadata": {},
   "source": [
    "# HEAT VALUES"
   ]
  },
  {
   "cell_type": "code",
   "execution_count": null,
   "metadata": {},
   "outputs": [],
   "source": [
    "run_data = {}\n",
    "\n",
    "for run_name in run_names:\n",
    "    try:\n",
    "        csv_path = '../build/out/run_00/plots/{}heatvals.csv'.format(run_name)\n",
    "        origin_index  = pd.read_csv(csv_path, header=None, skiprows=1, nrows=1).values[0][0]\n",
    "        orbit_indices = list(pd.read_csv(csv_path, header=None, skiprows=3, nrows=1).values[0])\n",
    "        heat_values   = pd.read_csv(csv_path, skiprows=4)\n",
    "        orbit_heat_vals = heat_values.iloc[orbit_indices]\n",
    "        run_data[run_name] = orbit_heat_vals\n",
    "    except:\n",
    "        print(\"aha\")"
   ]
  },
  {
   "cell_type": "code",
   "execution_count": null,
   "metadata": {},
   "outputs": [],
   "source": [
    "for(k, v) in run_data.items():\n",
    "    print(k)\n",
    "    display(v.var())"
   ]
  },
  {
   "cell_type": "code",
   "execution_count": null,
   "metadata": {
    "scrolled": false
   },
   "outputs": [],
   "source": [
    "for (k, v) in run_data.items():\n",
    "    plt.title(k)\n",
    "    v.boxplot()\n",
    "    plt.show()"
   ]
  },
  {
   "cell_type": "code",
   "execution_count": null,
   "metadata": {},
   "outputs": [],
   "source": [
    "for (k, v) in run_data.items():\n",
    "    "
   ]
  },
  {
   "cell_type": "code",
   "execution_count": null,
   "metadata": {},
   "outputs": [],
   "source": [
    "display(orbit_heat_vals)"
   ]
  },
  {
   "cell_type": "code",
   "execution_count": null,
   "metadata": {},
   "outputs": [],
   "source": [
    "orbit_heat_vals.mean()\n",
    "orbit_heat_vals.var()"
   ]
  }
 ],
 "metadata": {
  "kernelspec": {
   "display_name": "Python 3",
   "language": "python",
   "name": "python3"
  },
  "language_info": {
   "codemirror_mode": {
    "name": "ipython",
    "version": 3
   },
   "file_extension": ".py",
   "mimetype": "text/x-python",
   "name": "python",
   "nbconvert_exporter": "python",
   "pygments_lexer": "ipython3",
   "version": "3.5.2"
  }
 },
 "nbformat": 4,
 "nbformat_minor": 2
}
