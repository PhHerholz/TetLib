{
 "cells": [
  {
   "cell_type": "code",
   "execution_count": null,
   "metadata": {},
   "outputs": [],
   "source": [
    "import os\n",
    "import numpy as np\n",
    "import pandas as pd\n",
    "import matplotlib.pyplot as plt\n",
    "import copy"
   ]
  },
  {
   "cell_type": "code",
   "execution_count": null,
   "metadata": {},
   "outputs": [],
   "source": [
    "root_folder = '../build/out/04_flips'\n",
    "meshestxt = root_folder + '/plots/meshes.txt'"
   ]
  },
  {
   "cell_type": "code",
   "execution_count": null,
   "metadata": {},
   "outputs": [],
   "source": [
    "run_names = [l[:-1] for l in open(meshestxt, \"r\").readlines()]"
   ]
  },
  {
   "cell_type": "markdown",
   "metadata": {},
   "source": [
    "# Load Metrics"
   ]
  },
  {
   "cell_type": "code",
   "execution_count": null,
   "metadata": {},
   "outputs": [],
   "source": [
    "# CELL-BASED TRIANGULATION METRICS\n",
    "run_metrics = {}\n",
    "run_orbitpoints = {}\n",
    "for run_name in run_names:\n",
    "    metrics_file     = os.path.join(root_folder, '{}metrics.csv'.format(run_name))\n",
    "    orbitpoints_file = os.path.join(root_folder, '{}orbitpoints.csv'.format(run_name))\n",
    "    \n",
    "    # print(os.path.exists(metrics_file), os.path.exists(orbitpoints_file))\n",
    "    run_metrics[run_name] = pd.read_csv(metrics_file)\n",
    "    run_orbitpoints[run_name] = pd.read_csv(orbitpoints_file)"
   ]
  },
  {
   "cell_type": "code",
   "execution_count": null,
   "metadata": {
    "scrolled": false
   },
   "outputs": [],
   "source": [
    "# HEAT VALUES\n",
    "run_data = {}\n",
    "for r_idx, run_name in enumerate(run_names):\n",
    "    # print('{}/{}'.format(r_idx+1, len(run_names)))\n",
    "    _, cellSize, rerat, facetSize, lloyd, perturb, exude, minorbitpoints, nflips, _ = run_name.split('_')\n",
    "    if (minorbitpoints == 0):\n",
    "        print('No orbitpoints, no heatvals, skip...')\n",
    "        continue\n",
    "    try:\n",
    "        #print('-----------')\n",
    "        csv_path = os.path.join(root_folder, 'plots/{}heatvals.csv'.format(run_name))\n",
    "        # print(csv_path)\n",
    "        \n",
    "        origin_index  = pd.read_csv(csv_path, header=None, skiprows=1, nrows=1).values[0][0]\n",
    "        orbit_indices = list(pd.read_csv(csv_path, header=None, skiprows=3, nrows=1).values[0])\n",
    "        #print(run_orbitpoints[run_name]['orbit_idx'].sort_values().tolist()[1:])\n",
    "        #print(orbit_indices)\n",
    "        # print(list(pd.read_csv(csv_path, header=None, skiprows=3, nrows=1)))\n",
    "        heat_values   = pd.read_csv(csv_path, skiprows=4)\n",
    "        orbit_heat_vals = heat_values.iloc[run_orbitpoints[run_name]['orbit_idx'].sort_values().tolist()[1:]] # heat_values.iloc[orbit_indices]\n",
    "        run_data[run_name] = orbit_heat_vals\n",
    "    except:\n",
    "        print(\"heat falue file for {} missing\".format(run_name))"
   ]
  },
  {
   "cell_type": "markdown",
   "metadata": {},
   "source": [
    "# CELL-BASED METRICS"
   ]
  },
  {
   "cell_type": "code",
   "execution_count": null,
   "metadata": {
    "scrolled": false
   },
   "outputs": [],
   "source": [
    "from utils import join_run_values\n",
    "metric_df = join_run_values(run_metrics, run_orbitpoints, run_names)\n",
    "display(metric_df.groupby('nflips').mean())"
   ]
  },
  {
   "cell_type": "markdown",
   "metadata": {},
   "source": [
    "### Metrics BY"
   ]
  },
  {
   "cell_type": "code",
   "execution_count": null,
   "metadata": {},
   "outputs": [],
   "source": [
    "b_var = 'nflips'\n",
    "avg_by_size = metric_df.groupby(b_var).min().sort_index()\n",
    "\n",
    "fig = plt.figure(figsize=(15, 4))\n",
    "axes = fig.subplots(nrows=1, ncols=3)\n",
    "avg_by_size.plot(y='minangle', ax=axes[0])\n",
    "avg_by_size.plot(y='amips',    ax=axes[1])\n",
    "avg_by_size.plot(y='volume',   ax=axes[2])\n",
    "plt.show()"
   ]
  },
  {
   "cell_type": "markdown",
   "metadata": {},
   "source": [
    "# HEAT VALUES"
   ]
  },
  {
   "cell_type": "code",
   "execution_count": null,
   "metadata": {},
   "outputs": [],
   "source": [
    "b_var = 'nflips'\n",
    "df = join_run_values(run_data, run_orbitpoints, run_names)\n",
    "\n",
    "fig = plt.figure(figsize=(10, 4))\n",
    "axes = fig.subplots(nrows=1, ncols=2)\n",
    "df.groupby(b_var)[['h_fem', ' h_dec']].mean().plot(logy=True, ax=axes[0])\n",
    "axes[0].set_title('Mean')\n",
    "df.groupby(b_var)[['h_fem', ' h_dec']].var().plot(logy=True, ax=axes[1])\n",
    "axes[1].set_title('Var')\n",
    "plt.show()"
   ]
  },
  {
   "cell_type": "code",
   "execution_count": null,
   "metadata": {},
   "outputs": [],
   "source": [
    "print()"
   ]
  },
  {
   "cell_type": "code",
   "execution_count": null,
   "metadata": {
    "scrolled": false
   },
   "outputs": [],
   "source": [
    "for nf in list(df['nflips'].unique()):\n",
    "    df[df['nflips'] == nf][['h_fem', ' h_dec']].boxplot()\n",
    "    plt.title('{} Flips'.format(nf))\n",
    "    plt.show()"
   ]
  }
 ],
 "metadata": {
  "kernelspec": {
   "display_name": "Python 3",
   "language": "python",
   "name": "python3"
  },
  "language_info": {
   "codemirror_mode": {
    "name": "ipython",
    "version": 3
   },
   "file_extension": ".py",
   "mimetype": "text/x-python",
   "name": "python",
   "nbconvert_exporter": "python",
   "pygments_lexer": "ipython3",
   "version": "3.5.2"
  }
 },
 "nbformat": 4,
 "nbformat_minor": 2
}
