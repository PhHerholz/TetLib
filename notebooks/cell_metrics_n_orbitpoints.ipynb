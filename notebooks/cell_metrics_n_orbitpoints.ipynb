{
 "cells": [
  {
   "cell_type": "markdown",
   "metadata": {},
   "source": [
    "# Cell Metrics IFO moved orbitpoints"
   ]
  },
  {
   "cell_type": "code",
   "execution_count": 1,
   "metadata": {},
   "outputs": [],
   "source": [
    "import os\n",
    "import numpy as np\n",
    "import pandas as pd\n",
    "import matplotlib.pyplot as plt\n",
    "import copy"
   ]
  },
  {
   "cell_type": "code",
   "execution_count": 2,
   "metadata": {},
   "outputs": [],
   "source": [
    "root_folder = '../build/out/18_withorbit'\n",
    "meshestxt = root_folder + '/plots/meshes.txt'"
   ]
  },
  {
   "cell_type": "code",
   "execution_count": 3,
   "metadata": {},
   "outputs": [],
   "source": [
    "run_names = [l[:-1] for l in open(meshestxt, \"r\").readlines()]\n",
    "\n",
    "# CELL-BASED TRIANGULATION METRICS\n",
    "run_metrics = {}\n",
    "run_orbitpoints = {}\n",
    "for run_name in run_names:\n",
    "    metrics_file     = os.path.join(root_folder, '{}metrics.csv'.format(run_name))\n",
    "    orbitpoints_file = os.path.join(root_folder, '{}orbitpoints.csv'.format(run_name))\n",
    "    \n",
    "    # print(os.path.exists(metrics_file), os.path.exists(orbitpoints_file))\n",
    "    run_metrics[run_name] = pd.read_csv(metrics_file)\n",
    "    run_orbitpoints[run_name] = pd.read_csv(orbitpoints_file)"
   ]
  },
  {
   "cell_type": "code",
   "execution_count": 4,
   "metadata": {},
   "outputs": [
    {
     "ename": "ValueError",
     "evalue": "not enough values to unpack (expected 10, got 9)",
     "output_type": "error",
     "traceback": [
      "\u001b[0;31m---------------------------------------------------------------------------\u001b[0m",
      "\u001b[0;31mValueError\u001b[0m                                Traceback (most recent call last)",
      "\u001b[0;32m<ipython-input-4-420c3ade3fdb>\u001b[0m in \u001b[0;36m<module>\u001b[0;34m()\u001b[0m\n\u001b[1;32m      1\u001b[0m \u001b[0;32mfrom\u001b[0m \u001b[0mutils\u001b[0m \u001b[0;32mimport\u001b[0m \u001b[0mjoin_run_values\u001b[0m\u001b[0;34m\u001b[0m\u001b[0m\n\u001b[0;32m----> 2\u001b[0;31m \u001b[0mmetric_df\u001b[0m \u001b[0;34m=\u001b[0m \u001b[0mjoin_run_values\u001b[0m\u001b[0;34m(\u001b[0m\u001b[0mrun_metrics\u001b[0m\u001b[0;34m,\u001b[0m \u001b[0mrun_orbitpoints\u001b[0m\u001b[0;34m,\u001b[0m \u001b[0mrun_names\u001b[0m\u001b[0;34m)\u001b[0m\u001b[0;34m\u001b[0m\u001b[0m\n\u001b[0m",
      "\u001b[0;32m~/Uni/20_SoSe/MA/tetlib/notebooks/utils.py\u001b[0m in \u001b[0;36mjoin_run_values\u001b[0;34m(vdict, run_orbitpoints, rnames)\u001b[0m\n\u001b[1;32m      5\u001b[0m     \u001b[0mval_dict\u001b[0m \u001b[0;34m=\u001b[0m \u001b[0mcopy\u001b[0m\u001b[0;34m.\u001b[0m\u001b[0mdeepcopy\u001b[0m\u001b[0;34m(\u001b[0m\u001b[0mvdict\u001b[0m\u001b[0;34m)\u001b[0m\u001b[0;34m\u001b[0m\u001b[0m\n\u001b[1;32m      6\u001b[0m     \u001b[0;32mfor\u001b[0m \u001b[0mrun_name\u001b[0m \u001b[0;32min\u001b[0m \u001b[0mrnames\u001b[0m\u001b[0;34m:\u001b[0m\u001b[0;34m\u001b[0m\u001b[0m\n\u001b[0;32m----> 7\u001b[0;31m         \u001b[0m_\u001b[0m\u001b[0;34m,\u001b[0m \u001b[0mcellSize\u001b[0m\u001b[0;34m,\u001b[0m \u001b[0mrerat\u001b[0m\u001b[0;34m,\u001b[0m \u001b[0mfacetSize\u001b[0m\u001b[0;34m,\u001b[0m \u001b[0mlloyd\u001b[0m\u001b[0;34m,\u001b[0m \u001b[0mperturb\u001b[0m\u001b[0;34m,\u001b[0m \u001b[0mexude\u001b[0m\u001b[0;34m,\u001b[0m \u001b[0mminorbitpoints\u001b[0m\u001b[0;34m,\u001b[0m \u001b[0mnflips\u001b[0m\u001b[0;34m,\u001b[0m \u001b[0m_\u001b[0m \u001b[0;34m=\u001b[0m \u001b[0mrun_name\u001b[0m\u001b[0;34m.\u001b[0m\u001b[0msplit\u001b[0m\u001b[0;34m(\u001b[0m\u001b[0;34m'_'\u001b[0m\u001b[0;34m)\u001b[0m\u001b[0;34m\u001b[0m\u001b[0m\n\u001b[0m\u001b[1;32m      8\u001b[0m         \u001b[0mn_entries\u001b[0m \u001b[0;34m=\u001b[0m \u001b[0mval_dict\u001b[0m\u001b[0;34m[\u001b[0m\u001b[0mrun_name\u001b[0m\u001b[0;34m]\u001b[0m\u001b[0;34m.\u001b[0m\u001b[0mshape\u001b[0m\u001b[0;34m[\u001b[0m\u001b[0;36m0\u001b[0m\u001b[0;34m]\u001b[0m\u001b[0;34m\u001b[0m\u001b[0m\n\u001b[1;32m      9\u001b[0m         \u001b[0mlloyd\u001b[0m   \u001b[0;34m=\u001b[0m \u001b[0mbool\u001b[0m\u001b[0;34m(\u001b[0m\u001b[0mint\u001b[0m\u001b[0;34m(\u001b[0m\u001b[0mlloyd\u001b[0m\u001b[0;34m)\u001b[0m\u001b[0;34m)\u001b[0m\u001b[0;34m\u001b[0m\u001b[0m\n",
      "\u001b[0;31mValueError\u001b[0m: not enough values to unpack (expected 10, got 9)"
     ]
    }
   ],
   "source": [
    "from utils import join_run_values\n",
    "metric_df = join_run_values(run_metrics, run_orbitpoints, run_names)"
   ]
  },
  {
   "cell_type": "markdown",
   "metadata": {},
   "source": [
    "# Minimum Angle IFO N moved points"
   ]
  },
  {
   "cell_type": "code",
   "execution_count": null,
   "metadata": {},
   "outputs": [],
   "source": [
    "fig = plt.figure(figsize=(10, 4))\n",
    "axes = fig.subplots(nrows=1, ncols=2)\n",
    "\n",
    "axes[0].set_title('MIN')\n",
    "metric_df.groupby('n_orbitpoints').min()['minangle'].plot(ax=axes[0])\n",
    "axes[1].set_title('MEAN')\n",
    "metric_df.groupby('n_orbitpoints').mean()['minangle'].plot(ax=axes[1])\n",
    "\n",
    "plt.show()"
   ]
  },
  {
   "cell_type": "markdown",
   "metadata": {},
   "source": [
    "# AMIPS IFO N Moved Points"
   ]
  },
  {
   "cell_type": "code",
   "execution_count": null,
   "metadata": {},
   "outputs": [],
   "source": [
    "fig = plt.figure(figsize=(10, 4))\n",
    "axes = fig.subplots(nrows=1, ncols=2)\n",
    "\n",
    "axes[0].set_title('MAX')\n",
    "metric_df.groupby('n_orbitpoints').max()['amips'].plot(ax=axes[0])\n",
    "axes[1].set_title('MEAN')\n",
    "metric_df.groupby('n_orbitpoints').mean()['amips'].plot(ax=axes[1])\n",
    "\n",
    "plt.show()"
   ]
  }
 ],
 "metadata": {
  "kernelspec": {
   "display_name": "Python 3",
   "language": "python",
   "name": "python3"
  },
  "language_info": {
   "codemirror_mode": {
    "name": "ipython",
    "version": 3
   },
   "file_extension": ".py",
   "mimetype": "text/x-python",
   "name": "python",
   "nbconvert_exporter": "python",
   "pygments_lexer": "ipython3",
   "version": "3.5.2"
  }
 },
 "nbformat": 4,
 "nbformat_minor": 2
}
