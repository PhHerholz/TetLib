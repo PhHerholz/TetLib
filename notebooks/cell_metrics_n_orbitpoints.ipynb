{
 "cells": [
  {
   "cell_type": "markdown",
   "metadata": {},
   "source": [
    "# Cell Metrics IFO moved orbitpoints"
   ]
  },
  {
   "cell_type": "code",
   "execution_count": null,
   "metadata": {},
   "outputs": [],
   "source": [
    "import os\n",
    "import numpy as np\n",
    "import pandas as pd\n",
    "import matplotlib.pyplot as plt\n",
    "import copy"
   ]
  },
  {
   "cell_type": "code",
   "execution_count": null,
   "metadata": {},
   "outputs": [],
   "source": [
    "root_folder = '../build/out/01_coarse_mesh_norbit'\n",
    "meshestxt = root_folder + '/plots/meshes.txt'"
   ]
  },
  {
   "cell_type": "code",
   "execution_count": null,
   "metadata": {},
   "outputs": [],
   "source": [
    "run_names = [l[:-1] for l in open(meshestxt, \"r\").readlines()]\n",
    "\n",
    "# CELL-BASED TRIANGULATION METRICS\n",
    "run_metrics = {}\n",
    "run_orbitpoints = {}\n",
    "for run_name in run_names:\n",
    "    metrics_file     = os.path.join(root_folder, '{}metrics.csv'.format(run_name))\n",
    "    orbitpoints_file = os.path.join(root_folder, '{}orbitpoints.csv'.format(run_name))\n",
    "    \n",
    "    # print(os.path.exists(metrics_file), os.path.exists(orbitpoints_file))\n",
    "    run_metrics[run_name] = pd.read_csv(metrics_file)\n",
    "    run_orbitpoints[run_name] = pd.read_csv(orbitpoints_file)"
   ]
  },
  {
   "cell_type": "code",
   "execution_count": null,
   "metadata": {},
   "outputs": [],
   "source": [
    "from utils import join_run_values\n",
    "metric_df = join_run_values(run_metrics, run_orbitpoints, run_names)"
   ]
  },
  {
   "cell_type": "markdown",
   "metadata": {},
   "source": [
    "# Minimum Angle IFO N moved points"
   ]
  },
  {
   "cell_type": "code",
   "execution_count": null,
   "metadata": {},
   "outputs": [],
   "source": [
    "fig = plt.figure(figsize=(10, 4))\n",
    "axes = fig.subplots(nrows=1, ncols=2)\n",
    "\n",
    "axes[0].set_title('MIN')\n",
    "metric_df.groupby('n_orbitpoints').min()['minangle'].plot(ax=axes[0])\n",
    "axes[1].set_title('MEAN')\n",
    "metric_df.groupby('n_orbitpoints').mean()['minangle'].plot(ax=axes[1])\n",
    "\n",
    "plt.show()"
   ]
  },
  {
   "cell_type": "markdown",
   "metadata": {},
   "source": [
    "# AMIPS IFO N Moved Points"
   ]
  },
  {
   "cell_type": "code",
   "execution_count": null,
   "metadata": {},
   "outputs": [],
   "source": [
    "fig = plt.figure(figsize=(10, 4))\n",
    "axes = fig.subplots(nrows=1, ncols=2)\n",
    "\n",
    "axes[0].set_title('MAX')\n",
    "metric_df.groupby('n_orbitpoints').max()['amips'].plot(ax=axes[0])\n",
    "axes[1].set_title('MEAN')\n",
    "metric_df.groupby('n_orbitpoints').mean()['amips'].plot(ax=axes[1])\n",
    "\n",
    "plt.show()"
   ]
  }
 ],
 "metadata": {
  "kernelspec": {
   "display_name": "Python 3",
   "language": "python",
   "name": "python3"
  },
  "language_info": {
   "codemirror_mode": {
    "name": "ipython",
    "version": 3
   },
   "file_extension": ".py",
   "mimetype": "text/x-python",
   "name": "python",
   "nbconvert_exporter": "python",
   "pygments_lexer": "ipython3",
   "version": "3.5.2"
  }
 },
 "nbformat": 4,
 "nbformat_minor": 2
}
